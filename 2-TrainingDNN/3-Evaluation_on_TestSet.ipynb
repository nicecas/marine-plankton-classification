{
 "cells": [
  {
   "cell_type": "markdown",
   "id": "050a0c9f-b8ae-408c-aef8-90d9ba4a9828",
   "metadata": {},
   "source": "## Evaluated on the test set"
  },
  {
   "metadata": {
    "ExecuteTime": {
     "end_time": "2025-03-05T03:33:29.018778Z",
     "start_time": "2025-03-05T03:33:22.998225Z"
    }
   },
   "cell_type": "code",
   "source": [
    "import torch\n",
    "from torchvision import datasets\n",
    "from torchvision.transforms import v2\n",
    "import os\n",
    "import glob\n"
   ],
   "id": "b02cce70-bbcd-41ec-95bd-93c31a3c8698",
   "outputs": [],
   "execution_count": 1
  },
  {
   "cell_type": "code",
   "id": "19ea7b0a-9baf-46d2-8cc3-5f4bf3339710",
   "metadata": {
    "ExecuteTime": {
     "end_time": "2025-03-05T03:33:33.955532Z",
     "start_time": "2025-03-05T03:33:33.094372Z"
    }
   },
   "source": [
    "data_transforms = {\n",
    "    'train': v2.Compose([\n",
    "        v2.PILToTensor(),\n",
    "        v2.RandomResizedCrop(size=(224, 224), antialias=True),\n",
    "        v2.RandomHorizontalFlip(p=0.5),\n",
    "        v2.RandomHorizontalFlip(p=0.5),\n",
    "        v2.RandomAffine(degrees=30, translate=(0.1, 0.1), scale=(0.8, 1.2), shear=10),\n",
    "        v2.ToDtype(torch.float32, scale=True),  # to float32 in [0, 1]\n",
    "        v2.Normalize(mean=(0.704, 0.740, 0.781), std=(0.115, 0.135, 0.160))\n",
    "            ]),\n",
    "    'val': v2.Compose([\n",
    "        v2.PILToTensor(),\n",
    "        v2.Resize(256, antialias=True),\n",
    "        v2.CenterCrop(224),\n",
    "        v2.ToDtype(torch.float32, scale=True),\n",
    "        v2.Normalize(mean=(0.704, 0.740, 0.781), std=(0.115, 0.135, 0.160))\n",
    "    ]),\n",
    "    'test': v2.Compose([\n",
    "        v2.PILToTensor(),\n",
    "        v2.Resize(256, antialias=True),\n",
    "        v2.CenterCrop(224),\n",
    "        v2.ToDtype(torch.float32, scale=True),\n",
    "        v2.Normalize(mean=(0.704, 0.740, 0.781), std=(0.115, 0.135, 0.160))\n",
    "    ]),\n",
    "}\n",
    "\n",
    "\n",
    "data_dir = r'../0-Data/2-blobs'\n",
    "\n",
    "image_datasets = {x: datasets.ImageFolder(os.path.join(data_dir, x),\n",
    "                                          data_transforms[x])\n",
    "                  for x in ['train', 'val','test']}\n",
    "\n",
    "dataloaders = {x: torch.utils.data.DataLoader(image_datasets[x], batch_size=32,\n",
    "                                              shuffle=True, num_workers=4, pin_memory=True)\n",
    "               for x in ['train', 'val', 'test']}\n",
    "\n",
    "dataset_sizes = {x: len(image_datasets[x]) for x in ['train', 'val','test']}\n",
    "class_names = image_datasets['train'].classes"
   ],
   "outputs": [],
   "execution_count": 2
  },
  {
   "cell_type": "code",
   "id": "988bce8d-8be2-4635-b1a1-5d7dae49e3fb",
   "metadata": {
    "ExecuteTime": {
     "end_time": "2025-03-05T03:33:37.160243Z",
     "start_time": "2025-03-05T03:33:37.152907Z"
    }
   },
   "source": [
    "model_paths = glob.glob('models/*_best.pt')\n",
    "model_paths"
   ],
   "outputs": [
    {
     "data": {
      "text/plain": [
       "['models/efficientnetv2l_Adam_lr0.001_best.pt',\n",
       " 'models/efficientnetv2l_SGD_lr0.001_best.pt',\n",
       " 'models/efficientnetv2m_Adam_lr0.001_best.pt',\n",
       " 'models/efficientnetv2m_SGD_lr0.001_best.pt',\n",
       " 'models/efficientnetv2s_Adam_lr0.001_best.pt',\n",
       " 'models/efficientnetv2s_SGD_lr0.001_best.pt',\n",
       " 'models/resnet101_Adam_lr0.001_best.pt',\n",
       " 'models/resnet101_SGD_lr0.001_best.pt',\n",
       " 'models/resnet18_Adam_lr0.001_best.pt',\n",
       " 'models/resnet18_SGD_lr0.001_best.pt',\n",
       " 'models/resnet50_Adam_lr0.001_best.pt',\n",
       " 'models/resnet50_SGD_lr0.001_best.pt',\n",
       " 'models/swinv2b_Adam_lr0.001_best.pt',\n",
       " 'models/swinv2b_SGD_lr0.001_best.pt',\n",
       " 'models/swinv2s_Adam_lr0.001_best.pt',\n",
       " 'models/swinv2s_SGD_lr0.001_best.pt',\n",
       " 'models/swinv2t_Adam_lr0.001_best.pt',\n",
       " 'models/swinv2t_SGD_lr0.001_best.pt']"
      ]
     },
     "execution_count": 3,
     "metadata": {},
     "output_type": "execute_result"
    }
   ],
   "execution_count": 3
  },
  {
   "cell_type": "code",
   "id": "b898fa85-e294-4d01-8f70-d52f578414e5",
   "metadata": {
    "ExecuteTime": {
     "end_time": "2025-03-05T03:55:00.972159Z",
     "start_time": "2025-03-05T03:53:17.598409Z"
    }
   },
   "source": [
    "import torch\n",
    "import pandas as pd\n",
    "from sklearn.metrics import accuracy_score, precision_score, recall_score, f1_score\n",
    "\n",
    "# Assuming `model_paths` is already defined in a previous notebook cell\n",
    "\n",
    "results = []\n",
    "data_type = 'test'  # Only 'test' dataset in this case\n",
    "\n",
    "for model_path in model_paths:\n",
    "    # Parse the filename to extract the model name, optimizer, and learning rate\n",
    "    filename = model_path.split('/')[-1].replace('_best.pt', '')\n",
    "    parts = filename.split('_')\n",
    "    model_name = parts[0]       # Model name\n",
    "    optimizer = parts[1]        # Optimizer\n",
    "    learning_rate = parts[2].replace('lr', '')  # Learning rate\n",
    "\n",
    "    # Remove any existing 'model' variable from globals\n",
    "    if 'model' in globals():\n",
    "        del globals()['model']\n",
    "        \n",
    "    model = torch.load(model_path, weights_only=False)\n",
    "    model = model.cuda()\n",
    "    model.eval()\n",
    "\n",
    "    all_preds = []\n",
    "    all_labels = []\n",
    "\n",
    "    with torch.no_grad():\n",
    "        for inputs, labels in dataloaders[data_type]:\n",
    "            inputs = inputs.cuda()\n",
    "            labels = labels.cuda()\n",
    "            outputs = model(inputs)\n",
    "            _, preds = torch.max(outputs, 1)\n",
    "\n",
    "            all_preds.extend(preds.cpu().numpy())\n",
    "            all_labels.extend(labels.cpu().numpy())\n",
    "\n",
    "    # Calculate evaluation metrics\n",
    "    accuracy = accuracy_score(all_labels, all_preds)\n",
    "    precision = precision_score(all_labels, all_preds, average='macro', zero_division=0)\n",
    "    recall = recall_score(all_labels, all_preds, average='macro')\n",
    "    f1 = f1_score(all_labels, all_preds, average='macro')\n",
    "\n",
    "    # Append results to a list\n",
    "    results.append({\n",
    "        'Model Name': model_name,\n",
    "        'Optimizer': optimizer,\n",
    "        'Learning Rate': learning_rate,\n",
    "        'Data Type': data_type,\n",
    "        'Accuracy': accuracy,\n",
    "        'Precision': precision,\n",
    "        'Recall': recall,\n",
    "        'F1 Score': f1\n",
    "    })\n",
    "\n",
    "    # Print all metrics in one single line output\n",
    "    print(f\"Model {model_path} on {data_type} dataset: Accuracy: {accuracy:.2f}% | Precision: {precision:.2f} | Recall: {recall:.2f} | F1 Score: {f1:.2f}\")\n",
    "\n",
    "# Create a DataFrame from the results and print it\n",
    "df = pd.DataFrame(results)\n",
    "print(df)"
   ],
   "outputs": [
    {
     "name": "stdout",
     "output_type": "stream",
     "text": [
      "Model models/efficientnetv2l_Adam_lr0.001_best.pt on test dataset: Accuracy: 0.94% | Precision: 0.90 | Recall: 0.87 | F1 Score: 0.88\n",
      "Model models/efficientnetv2l_SGD_lr0.001_best.pt on test dataset: Accuracy: 0.96% | Precision: 0.92 | Recall: 0.93 | F1 Score: 0.92\n",
      "Model models/efficientnetv2m_Adam_lr0.001_best.pt on test dataset: Accuracy: 0.94% | Precision: 0.91 | Recall: 0.89 | F1 Score: 0.89\n",
      "Model models/efficientnetv2m_SGD_lr0.001_best.pt on test dataset: Accuracy: 0.96% | Precision: 0.93 | Recall: 0.93 | F1 Score: 0.92\n",
      "Model models/efficientnetv2s_Adam_lr0.001_best.pt on test dataset: Accuracy: 0.94% | Precision: 0.88 | Recall: 0.88 | F1 Score: 0.88\n",
      "Model models/efficientnetv2s_SGD_lr0.001_best.pt on test dataset: Accuracy: 0.95% | Precision: 0.90 | Recall: 0.91 | F1 Score: 0.90\n",
      "Model models/resnet101_Adam_lr0.001_best.pt on test dataset: Accuracy: 0.93% | Precision: 0.86 | Recall: 0.84 | F1 Score: 0.84\n",
      "Model models/resnet101_SGD_lr0.001_best.pt on test dataset: Accuracy: 0.95% | Precision: 0.89 | Recall: 0.90 | F1 Score: 0.90\n",
      "Model models/resnet18_Adam_lr0.001_best.pt on test dataset: Accuracy: 0.92% | Precision: 0.84 | Recall: 0.81 | F1 Score: 0.81\n",
      "Model models/resnet18_SGD_lr0.001_best.pt on test dataset: Accuracy: 0.94% | Precision: 0.89 | Recall: 0.88 | F1 Score: 0.88\n",
      "Model models/resnet50_Adam_lr0.001_best.pt on test dataset: Accuracy: 0.94% | Precision: 0.89 | Recall: 0.87 | F1 Score: 0.87\n",
      "Model models/resnet50_SGD_lr0.001_best.pt on test dataset: Accuracy: 0.94% | Precision: 0.89 | Recall: 0.89 | F1 Score: 0.89\n",
      "Model models/swinv2b_Adam_lr0.001_best.pt on test dataset: Accuracy: 0.91% | Precision: 0.84 | Recall: 0.80 | F1 Score: 0.81\n",
      "Model models/swinv2b_SGD_lr0.001_best.pt on test dataset: Accuracy: 0.96% | Precision: 0.94 | Recall: 0.91 | F1 Score: 0.92\n",
      "Model models/swinv2s_Adam_lr0.001_best.pt on test dataset: Accuracy: 0.90% | Precision: 0.82 | Recall: 0.78 | F1 Score: 0.80\n",
      "Model models/swinv2s_SGD_lr0.001_best.pt on test dataset: Accuracy: 0.95% | Precision: 0.89 | Recall: 0.89 | F1 Score: 0.88\n",
      "Model models/swinv2t_Adam_lr0.001_best.pt on test dataset: Accuracy: 0.90% | Precision: 0.85 | Recall: 0.78 | F1 Score: 0.80\n",
      "Model models/swinv2t_SGD_lr0.001_best.pt on test dataset: Accuracy: 0.95% | Precision: 0.90 | Recall: 0.90 | F1 Score: 0.89\n",
      "         Model Name Optimizer Learning Rate Data Type  Accuracy  Precision  \\\n",
      "0   efficientnetv2l      Adam         0.001      test  0.938892   0.895928   \n",
      "1   efficientnetv2l       SGD         0.001      test  0.958625   0.923644   \n",
      "2   efficientnetv2m      Adam         0.001      test  0.938256   0.911674   \n",
      "3   efficientnetv2m       SGD         0.001      test  0.956715   0.931522   \n",
      "4   efficientnetv2s      Adam         0.001      test  0.936346   0.883413   \n",
      "5   efficientnetv2s       SGD         0.001      test  0.952896   0.899673   \n",
      "6         resnet101      Adam         0.001      test  0.926798   0.860267   \n",
      "7         resnet101       SGD         0.001      test  0.950350   0.893757   \n",
      "8          resnet18      Adam         0.001      test  0.920433   0.837085   \n",
      "9          resnet18       SGD         0.001      test  0.938892   0.885205   \n",
      "10         resnet50      Adam         0.001      test  0.936346   0.892096   \n",
      "11         resnet50       SGD         0.001      test  0.940165   0.887863   \n",
      "12          swinv2b      Adam         0.001      test  0.906429   0.844856   \n",
      "13          swinv2b       SGD         0.001      test  0.957989   0.936967   \n",
      "14          swinv2s      Adam         0.001      test  0.898154   0.820293   \n",
      "15          swinv2s       SGD         0.001      test  0.947804   0.886286   \n",
      "16          swinv2t      Adam         0.001      test  0.898791   0.851037   \n",
      "17          swinv2t       SGD         0.001      test  0.946531   0.903197   \n",
      "\n",
      "      Recall  F1 Score  \n",
      "0   0.874505  0.877242  \n",
      "1   0.926037  0.920705  \n",
      "2   0.888408  0.889847  \n",
      "3   0.926695  0.924799  \n",
      "4   0.882367  0.876270  \n",
      "5   0.910274  0.899781  \n",
      "6   0.841184  0.843218  \n",
      "7   0.903484  0.895444  \n",
      "8   0.812846  0.812235  \n",
      "9   0.875992  0.875131  \n",
      "10  0.873718  0.874144  \n",
      "11  0.892968  0.885924  \n",
      "12  0.800195  0.805698  \n",
      "13  0.914150  0.916934  \n",
      "14  0.784353  0.795315  \n",
      "15  0.888330  0.884083  \n",
      "16  0.784062  0.801507  \n",
      "17  0.897974  0.894122  \n"
     ]
    }
   ],
   "execution_count": 6
  },
  {
   "cell_type": "code",
   "id": "30c95e5e-b0dc-4eeb-96be-d3c6c247239b",
   "metadata": {
    "ExecuteTime": {
     "end_time": "2025-03-05T03:58:14.133686Z",
     "start_time": "2025-03-05T03:58:14.058993Z"
    }
   },
   "source": "df.to_excel(r'3-evaluation_metrics.xlsx') ",
   "outputs": [],
   "execution_count": 8
  },
  {
   "metadata": {},
   "cell_type": "code",
   "outputs": [],
   "execution_count": null,
   "source": "",
   "id": "e65c83a244c64e2b"
  }
 ],
 "metadata": {
  "kernelspec": {
   "display_name": "Python 3 (ipykernel)",
   "language": "python",
   "name": "python3"
  },
  "language_info": {
   "codemirror_mode": {
    "name": "ipython",
    "version": 3
   },
   "file_extension": ".py",
   "mimetype": "text/x-python",
   "name": "python",
   "nbconvert_exporter": "python",
   "pygments_lexer": "ipython3",
   "version": "3.11.9"
  }
 },
 "nbformat": 4,
 "nbformat_minor": 5
}
