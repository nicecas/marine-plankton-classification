{
 "cells": [
  {
   "cell_type": "code",
   "id": "3a623c9e-0d3c-4861-b467-91cec8d3137b",
   "metadata": {
    "ExecuteTime": {
     "end_time": "2025-03-05T09:11:10.418423Z",
     "start_time": "2025-03-05T09:10:51.593621Z"
    }
   },
   "source": [
    "import os\n",
    "import pandas as pd\n",
    "\n",
    "# Define the directory path\n",
    "directory_path = './features'\n",
    "\n",
    "# List all files in the directory\n",
    "files = os.listdir(directory_path)\n",
    "\n",
    "# Filter CSV files\n",
    "csv_files = [file for file in files if file.endswith('.csv')]\n",
    "\n",
    "# Initialize a list to store each file's name, row count, and column count\n",
    "file_info = []\n",
    "\n",
    "# Iterate over each CSV file to get its row and column counts\n",
    "for csv_file in csv_files:\n",
    "    file_path = os.path.join(directory_path, csv_file)\n",
    "    df = pd.read_csv(file_path)\n",
    "    rows, cols = df.shape\n",
    "    cols = cols - 3  # Since the last 3 columns in the CSV are not features, subtract 3\n",
    "    file_info.append((csv_file, rows, cols))\n",
    "\n",
    "# Convert the file information into a DataFrame\n",
    "file_info_df = pd.DataFrame(file_info, columns=['File', 'Rows', 'FeaturesDim'])\n",
    "\n",
    "# Print the DataFrame\n",
    "print(file_info_df)"
   ],
   "outputs": [
    {
     "name": "stdout",
     "output_type": "stream",
     "text": [
      "                  File   Rows  FeaturesDim\n",
      "0  efficientnetv2l.csv  10260         1280\n",
      "1  efficientnetv2m.csv  10260         1280\n",
      "2  efficientnetv2s.csv  10260         1280\n",
      "3    morphological.csv  10260           37\n",
      "4        resnet101.csv  10260         2048\n",
      "5         resnet18.csv  10260          512\n",
      "6         resnet50.csv  10260         2048\n",
      "7          swinv2b.csv  10260         1024\n",
      "8          swinv2s.csv  10260          768\n",
      "9          swinv2t.csv  10260          768\n"
     ]
    }
   ],
   "execution_count": 2
  }
 ],
 "metadata": {
  "kernelspec": {
   "display_name": "Python 3 (ipykernel)",
   "language": "python",
   "name": "python3"
  },
  "language_info": {
   "codemirror_mode": {
    "name": "ipython",
    "version": 3
   },
   "file_extension": ".py",
   "mimetype": "text/x-python",
   "name": "python",
   "nbconvert_exporter": "python",
   "pygments_lexer": "ipython3",
   "version": "3.11.9"
  }
 },
 "nbformat": 4,
 "nbformat_minor": 5
}
